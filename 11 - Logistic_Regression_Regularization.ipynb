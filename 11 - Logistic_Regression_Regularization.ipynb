{
 "cells": [
  {
   "cell_type": "code",
   "execution_count": null,
   "metadata": {},
   "outputs": [],
   "source": [
    "%matplotlib inline\n",
    "\n",
    "import pandas as pd\n",
    "import numpy as np\n",
    "import matplotlib.pyplot as plt\n",
    "\n",
    "from sklearn.model_selection import train_test_split\n",
    "from sklearn.linear_model import LogisticRegression"
   ]
  },
  {
   "cell_type": "code",
   "execution_count": null,
   "metadata": {},
   "outputs": [],
   "source": [
    "df = pd.read_table('diabetesdata.txt')\n",
    "df"
   ]
  },
  {
   "cell_type": "code",
   "execution_count": null,
   "metadata": {},
   "outputs": [],
   "source": [
    "X = df.drop('Diabetes',axis=1)\n",
    "y = df['Diabetes']"
   ]
  },
  {
   "cell_type": "code",
   "execution_count": null,
   "metadata": {},
   "outputs": [],
   "source": [
    "from sklearn.model_selection import train_test_split\n",
    "from sklearn import preprocessing\n",
    "#split dataset into train and test data\n",
    "X_train, X_test, y_train, y_test = train_test_split(X, y, test_size=0.2, random_state=1, stratify=y)\n",
    "scaler = preprocessing.StandardScaler()\n",
    "scaler.fit(X_train)\n",
    "X_trainStandard = scaler.transform(X_train)\n",
    "X_testStandard = scaler.transform(X_test)"
   ]
  },
  {
   "cell_type": "code",
   "execution_count": null,
   "metadata": {},
   "outputs": [],
   "source": [
    "LogisticRegression()"
   ]
  },
  {
   "cell_type": "code",
   "execution_count": null,
   "metadata": {},
   "outputs": [],
   "source": [
    "from sklearn.model_selection import cross_val_score\n",
    "from sklearn.model_selection import KFold\n",
    "from sklearn.pipeline import make_pipeline\n",
    "logreg = LogisticRegression(C=0.000000001,penalty='l2',max_iter=1000)\n",
    "pipe = make_pipeline(preprocessing.StandardScaler(), logreg)\n",
    "scoreCV = cross_val_score(pipe, X_train, y_train, scoring='accuracy',\n",
    "                             cv=KFold(n_splits=10, shuffle=True,\n",
    "                                            random_state=1))\n",
    "scoreCV"
   ]
  },
  {
   "cell_type": "code",
   "execution_count": null,
   "metadata": {},
   "outputs": [],
   "source": [
    "np.mean(scoreCV)"
   ]
  },
  {
   "cell_type": "code",
   "execution_count": null,
   "metadata": {},
   "outputs": [],
   "source": [
    "logreg.fit(X_trainStandard,y_train)"
   ]
  },
  {
   "cell_type": "code",
   "execution_count": null,
   "metadata": {},
   "outputs": [],
   "source": [
    "Model_intercept = pd.DataFrame({\"Variables\":'Intercept',\"Coefficients\":logreg.intercept_[0]},index=[0])\n",
    "Model_coefficients = pd.DataFrame({\"Variables\":X.columns,\"Coefficients\":np.transpose(logreg.coef_[0])})\n",
    "Model_coefficients = pd.concat([Model_intercept,Model_coefficients]).reset_index(drop=True)\n",
    "print(Model_coefficients)"
   ]
  },
  {
   "cell_type": "code",
   "execution_count": null,
   "metadata": {},
   "outputs": [],
   "source": [
    "logreg = LogisticRegression(C=0.01,penalty='l2',max_iter=1000)\n",
    "pipe = make_pipeline(preprocessing.StandardScaler(), logreg)\n",
    "scoreCV = cross_val_score(pipe, X_train, y_train, scoring='accuracy',\n",
    "                             cv=KFold(n_splits=10, shuffle=True,\n",
    "                                            random_state=1))\n",
    "scoreCV\n",
    "np.mean(scoreCV)"
   ]
  },
  {
   "cell_type": "code",
   "execution_count": null,
   "metadata": {},
   "outputs": [],
   "source": [
    "logreg=LogisticRegression(C=0.01,penalty='l2',max_iter=1000)\n",
    "logreg.fit(X_trainStandard,y_train)"
   ]
  },
  {
   "cell_type": "code",
   "execution_count": null,
   "metadata": {},
   "outputs": [],
   "source": [
    "Model_intercept = pd.DataFrame({\"Variables\":'Intercept',\"Coefficients\":logreg.intercept_[0]},index=[0])\n",
    "Model_coefficients = pd.DataFrame({\"Variables\":X.columns,\"Coefficients\":np.transpose(logreg.coef_[0])})\n",
    "Model_coefficients = pd.concat([Model_intercept,Model_coefficients]).reset_index(drop=True)\n",
    "print(Model_coefficients)"
   ]
  },
  {
   "cell_type": "code",
   "execution_count": null,
   "metadata": {},
   "outputs": [],
   "source": [
    "logreg = LogisticRegression(C=10,penalty='l2',max_iter=1000)\n",
    "pipe = make_pipeline(preprocessing.StandardScaler(), logreg)\n",
    "scoreCV = cross_val_score(pipe, X_train, y_train, scoring='accuracy',\n",
    "                             cv=KFold(n_splits=10, shuffle=True,\n",
    "                                            random_state=1))\n",
    "scoreCV\n",
    "np.mean(scoreCV)"
   ]
  },
  {
   "cell_type": "code",
   "execution_count": null,
   "metadata": {},
   "outputs": [],
   "source": [
    "logreg = LogisticRegression(C=100,penalty='l2',max_iter=1000)\n",
    "pipe = make_pipeline(preprocessing.StandardScaler(), logreg)\n",
    "scoreCV = cross_val_score(pipe, X_train, y_train, scoring='accuracy',\n",
    "                             cv=KFold(n_splits=10, shuffle=True,\n",
    "                                            random_state=1))\n",
    "scoreCV\n",
    "np.mean(scoreCV)"
   ]
  },
  {
   "cell_type": "code",
   "execution_count": null,
   "metadata": {},
   "outputs": [],
   "source": [
    "from sklearn.model_selection import cross_val_score\n",
    "from sklearn.model_selection import KFold\n",
    "C_param_range = [0.001,0.01,0.1,1,10,100,1000,10000]\n",
    "scoresCV = []\n",
    "for c in C_param_range:\n",
    "    logreg = LogisticRegression(C=c,penalty='l2',max_iter=1000)\n",
    "    pipe = make_pipeline(preprocessing.StandardScaler(), logreg)\n",
    "    scoreCV = cross_val_score(pipe, X_train, y_train, scoring='accuracy',\n",
    "                             cv=KFold(n_splits=10, shuffle=True,\n",
    "                                            random_state=1))\n",
    "    scoresCV.append([c,np.mean(scoreCV)])"
   ]
  },
  {
   "cell_type": "code",
   "execution_count": null,
   "metadata": {},
   "outputs": [],
   "source": [
    "df = pd.DataFrame(scoresCV,columns=['C (1/lambda)','Validation Accuracy'])\n",
    "df"
   ]
  },
  {
   "cell_type": "code",
   "execution_count": null,
   "metadata": {},
   "outputs": [],
   "source": [
    "ax = plt.gca()\n",
    "ax.plot(df['C (1/lambda)'].values,df['Validation Accuracy'].values)\n",
    "ax.set_xscale('log')"
   ]
  },
  {
   "cell_type": "code",
   "execution_count": null,
   "metadata": {},
   "outputs": [],
   "source": [
    "logreg = LogisticRegression(C=1,penalty='l2',max_iter=1000)\n",
    "logreg.fit(X_trainStandard, y_train)\n",
    "score = logreg.score(X_testStandard, y_test)\n",
    "print(score)"
   ]
  },
  {
   "cell_type": "code",
   "execution_count": null,
   "metadata": {},
   "outputs": [],
   "source": [
    "Model_intercept = pd.DataFrame({\"Variables\":'Intercept',\"Coefficients\":logreg.intercept_[0]},index=[0])\n",
    "Model_coefficients = pd.DataFrame({\"Variables\":X.columns,\"Coefficients\":np.transpose(logreg.coef_[0])})\n",
    "Model_coefficients = pd.concat([Model_intercept,Model_coefficients]).reset_index(drop=True)\n",
    "print(Model_coefficients)"
   ]
  },
  {
   "cell_type": "code",
   "execution_count": null,
   "metadata": {},
   "outputs": [],
   "source": [
    "logreg = LogisticRegression(C=0.001,penalty='l1',max_iter=1000,solver='liblinear')\n",
    "pipe = make_pipeline(preprocessing.StandardScaler(), logreg)\n",
    "scoreCV = cross_val_score(pipe, X_train, y_train, scoring='accuracy',\n",
    "                             cv=KFold(n_splits=10, shuffle=True,\n",
    "                                            random_state=1))\n",
    "print(np.mean(scoreCV))\n",
    "logreg.fit(X_trainStandard, y_train)\n",
    "Model_intercept = pd.DataFrame({\"Variables\":'Intercept',\"Coefficients\":logreg.intercept_[0]},index=[0])\n",
    "Model_coefficients = pd.DataFrame({\"Variables\":X.columns,\"Coefficients\":np.transpose(logreg.coef_[0])})\n",
    "Model_coefficients = pd.concat([Model_intercept,Model_coefficients]).reset_index(drop=True)\n",
    "print(Model_coefficients)"
   ]
  },
  {
   "cell_type": "code",
   "execution_count": null,
   "metadata": {},
   "outputs": [],
   "source": [
    "logreg = LogisticRegression(C=0.01,penalty='l1',max_iter=1000,solver='liblinear')\n",
    "pipe = make_pipeline(preprocessing.StandardScaler(), logreg)\n",
    "scoreCV = cross_val_score(pipe, X_train, y_train, scoring='accuracy',\n",
    "                             cv=KFold(n_splits=10, shuffle=True,\n",
    "                                            random_state=1))\n",
    "scoreCV\n",
    "print(np.mean(scoreCV))\n",
    "logreg.fit(X_trainStandard, y_train)\n",
    "Model_intercept = pd.DataFrame({\"Variables\":'Intercept',\"Coefficients\":logreg.intercept_[0]},index=[0])\n",
    "Model_coefficients = pd.DataFrame({\"Variables\":X.columns,\"Coefficients\":np.transpose(logreg.coef_[0])})\n",
    "Model_coefficients = pd.concat([Model_intercept,Model_coefficients]).reset_index(drop=True)\n",
    "print(Model_coefficients)"
   ]
  },
  {
   "cell_type": "code",
   "execution_count": null,
   "metadata": {},
   "outputs": [],
   "source": [
    "logreg = LogisticRegression(C=0.1,penalty='l1',max_iter=1000,solver='liblinear')\n",
    "pipe = make_pipeline(preprocessing.StandardScaler(), logreg)\n",
    "scoreCV = cross_val_score(pipe, X_train, y_train, scoring='accuracy',\n",
    "                             cv=KFold(n_splits=10, shuffle=True,\n",
    "                                            random_state=1))\n",
    "scoreCV\n",
    "print(np.mean(scoreCV))\n",
    "logreg.fit(X_trainStandard, y_train)\n",
    "Model_intercept = pd.DataFrame({\"Variables\":'Intercept',\"Coefficients\":logreg.intercept_[0]},index=[0])\n",
    "Model_coefficients = pd.DataFrame({\"Variables\":X.columns,\"Coefficients\":np.transpose(logreg.coef_[0])})\n",
    "Model_coefficients = pd.concat([Model_intercept,Model_coefficients]).reset_index(drop=True)\n",
    "print(Model_coefficients)"
   ]
  },
  {
   "cell_type": "code",
   "execution_count": null,
   "metadata": {},
   "outputs": [],
   "source": [
    "from sklearn.model_selection import cross_val_score\n",
    "from sklearn.model_selection import KFold\n",
    "C_param_range = [0.001,0.01,0.1,1,10,100,1000,10000]\n",
    "scoresCV = []\n",
    "for c in C_param_range:\n",
    "    logreg = LogisticRegression(C=c,penalty='l1',max_iter=1000,solver='liblinear')\n",
    "    pipe = make_pipeline(preprocessing.StandardScaler(), logreg)\n",
    "    scoreCV = cross_val_score(pipe, X_train, y_train, scoring='accuracy',\n",
    "                             cv=KFold(n_splits=10, shuffle=True,\n",
    "                                            random_state=1))\n",
    "    scoresCV.append([c,np.mean(scoreCV)])"
   ]
  },
  {
   "cell_type": "code",
   "execution_count": null,
   "metadata": {},
   "outputs": [],
   "source": [
    "ax = plt.gca()\n",
    "ax.plot(df['C (1/lambda)'].values,df['Validation Accuracy'].values)\n",
    "ax.set_xscale('log')"
   ]
  },
  {
   "cell_type": "code",
   "execution_count": null,
   "metadata": {},
   "outputs": [],
   "source": [
    "logreg = LogisticRegression(C=1,penalty='l1',max_iter=1000,solver='liblinear')\n",
    "logreg.fit(X_trainStandard, y_train)\n",
    "score = logreg.score(X_testStandard, y_test)\n",
    "print(score)\n",
    "Model_intercept = pd.DataFrame({\"Variables\":'Intercept',\"Coefficients\":logreg.intercept_[0]},index=[0])\n",
    "Model_coefficients = pd.DataFrame({\"Variables\":X.columns,\"Coefficients\":np.transpose(logreg.coef_[0])})\n",
    "Model_coefficients = pd.concat([Model_intercept,Model_coefficients]).reset_index(drop=True)\n",
    "print(Model_coefficients)"
   ]
  },
  {
   "cell_type": "code",
   "execution_count": null,
   "metadata": {},
   "outputs": [],
   "source": []
  }
 ],
 "metadata": {
  "kernelspec": {
   "display_name": "Python 3",
   "language": "python",
   "name": "python3"
  },
  "language_info": {
   "codemirror_mode": {
    "name": "ipython",
    "version": 3
   },
   "file_extension": ".py",
   "mimetype": "text/x-python",
   "name": "python",
   "nbconvert_exporter": "python",
   "pygments_lexer": "ipython3",
   "version": "3.8.8"
  }
 },
 "nbformat": 4,
 "nbformat_minor": 1
}
